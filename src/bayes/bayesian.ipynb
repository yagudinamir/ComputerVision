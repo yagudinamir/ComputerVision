{
 "cells": [
  {
   "cell_type": "code",
   "execution_count": 2,
   "metadata": {
    "collapsed": true
   },
   "outputs": [],
   "source": [
    "import numpy as np\n",
    "import sklearn.gaussian_process as gp\n",
    "import tensorflow as tf\n",
    "from scipy.stats import norm\n",
    "from scipy.optimize import minimize"
   ]
  },
  {
   "cell_type": "code",
   "execution_count": null,
   "metadata": {
    "collapsed": true
   },
   "outputs": [],
   "source": [
    "\"\"\"sampling loss with a batch of parameters\"\"\"\n",
    "\"\"\" params : lr, alpha, beta\"\"\"\n",
    "def sample_loss(params):\n",
    "    hist = run(params)\n",
    "    val_tversky_losses = hist.history['val_loss']\n",
    "    average_loss = np.mean(val_tversky_losses)\n",
    "    print(average_loss)\n",
    "    return average_loss"
   ]
  },
  {
   "cell_type": "code",
   "execution_count": 5,
   "metadata": {
    "collapsed": true
   },
   "outputs": [],
   "source": [
    "\"\"\" \n",
    "bayesian optimization of the loss function\n",
    "\"\"\"\n",
    "MAX_LOSS = 1e8    \n",
    "def expected_improvement(x, gaussian_process, losses, n_params):\n",
    "    x_to_predict = x.reshape(-1, n_params)\n",
    "    mu, sigma = gaussiaon_process.predict(x_to_predict, return_std=True)\n",
    "    \n",
    "    loss_opt = np.min(losses)\n",
    "\n",
    "    scaling_factor = -1\n",
    "    \n",
    "    with np.errstate(devide='ignore'):\n",
    "        Z = scaling_factor * (mu - loss_opt) / sigma\n",
    "        expected_improvement = scaling_factor * (mu - loss_opt) * norm.cdf(Z) \\\n",
    "                               + sigma * norm.pdf(Z)\n",
    "        expected_improvement[sigma == 0.0] == 0.0\n",
    "    \n",
    "    return -1 * expected_improvement\n",
    "\n",
    "def sample_next_hyperparameter(func, gaussian_process, losses, bounds, n_restarts=100):\n",
    "    best_x = None\n",
    "    best_value = MAX_LOSS\n",
    "    n_params = bounds.shape[0]\n",
    "    \n",
    "    for starting_point in np.random.uniform(bounds[:, 0],\n",
    "                                            bounds[:, 1],\n",
    "                                            (n_restarts, n_params)):\n",
    "        res = minimize(fun=func,\n",
    "                       x0=starting_point.reshape(1, -1),\n",
    "                       bounds=bounds,\n",
    "                       method='L-BFGS-B',\n",
    "                       args=(gaussian_process, losses, n_params))\n",
    "        if res.fun < best_value:\n",
    "            best_value = res.fun\n",
    "            best_x = res.x\n",
    "                 \n",
    "    return best_x\n",
    "                               \n",
    "def bayesian_optimization(n_iters, sample_loss, bounds, n_inital=5,\n",
    "                          gp_params=None, alpha=1e-5, epsilon=1e-7):\n",
    "    x_list = []\n",
    "    y_list = []\n",
    "    \n",
    "    n_params = bounds.shape[0]\n",
    "    # initialize with random xp and yp\n",
    "    assert n_initial > 0\n",
    "    for params in np.random.uniform(bounds[:, 0], bounds[:, 1], (n_initial, bounds.shape[0])):\n",
    "        x_list.append(params)\n",
    "        y_list.append(sample_loss(params))\n",
    "    \n",
    "    \n",
    "    xp = np.array(x_list)\n",
    "    yp = np.array(y_list)\n",
    "    \n",
    "    # creating the gp\n",
    "    kernel = gp.kernels.Matern()\n",
    "    model = gp.GaussianProcessRegressor(kernel=kernel, alpha=alpha,\n",
    "                                        n_restarts_optimizer=10,\n",
    "                                        normilize_y=True)\n",
    "    \n",
    "    for i in range(n_iters):\n",
    "        model.fit(xp, yp)\n",
    "        \n",
    "        next_sample = sample_next_hyperparameter(expected_improvement, model, yp, bounds=bounds, n_restarts=100)\n",
    "        \n",
    "        # remove duplicates\n",
    "        if np.any(np.abs(next_sample - xp) <= epsilon):\n",
    "            next_sample = np.random.uniform(bounds[:, 0], bounds[:, 1], bounds.shape[0])\n",
    "            \n",
    "        next_loss = sample_loss(next_sample)\n",
    "    \n",
    "        x_list.append(next_sample)\n",
    "        y_list.append(next_loss)\n",
    "        \n",
    "        xp = np.array(x_list)\n",
    "        yp = np.array(y_list)\n",
    "        \n",
    "    return xp, yp"
   ]
  },
  {
   "cell_type": "code",
   "execution_count": null,
   "metadata": {
    "collapsed": true
   },
   "outputs": [],
   "source": []
  }
 ],
 "metadata": {
  "kernelspec": {
   "display_name": "Python 3",
   "language": "python",
   "name": "python3"
  },
  "language_info": {
   "codemirror_mode": {
    "name": "ipython",
    "version": 3
   },
   "file_extension": ".py",
   "mimetype": "text/x-python",
   "name": "python",
   "nbconvert_exporter": "python",
   "pygments_lexer": "ipython3",
   "version": "3.6.6"
  }
 },
 "nbformat": 4,
 "nbformat_minor": 2
}
