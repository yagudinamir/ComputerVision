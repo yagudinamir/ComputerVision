{
 "cells": [
  {
   "cell_type": "code",
   "execution_count": 1,
   "metadata": {
    "collapsed": true
   },
   "outputs": [],
   "source": [
    "%matplotlib inline"
   ]
  },
  {
   "cell_type": "markdown",
   "metadata": {},
   "source": [
    "Prepare Cityscapes dataset.\n",
    "========================\n",
    "\n",
    "`Cityscapes <http://sceneparsing.csail.mit.edu/>`_  focuses on semantic understanding of\n",
    "urban street scenes. This tutorial help you to download Cityscapes and set it up for later experiments.\n",
    "\n",
    "![](https://www.cityscapes-dataset.com/wordpress/wp-content/uploads/2015/07/stuttgart02-2040x500.png)\n",
    "\n",
    "   :width: 600 px\n",
    "\n",
    "\n",
    "Prepare the dataset\n",
    "-------------------\n",
    "\n",
    "\n",
    "Please login and download the files `gtFine_trainvaltest.zip` and `leftImg8bit_trainvaltest.zip` to\n",
    "the current folder:\n",
    "\n",
    "+---------------------------------------+--------+\n",
    "| File name                             | Size   |\n",
    "+=======================================+========+\n",
    "| gtFine_trainvaltest.zip               | 253 MB |\n",
    "+---------------------------------------+--------+\n",
    "| leftImg8bit_trainvaltest.zip          | 12 GB  |\n",
    "+---------------------------------------+--------+\n",
    "\n",
    "Then run this script:\n",
    "\n",
    " :download:`Download script: cityscapes.py<../../../scripts/datasets/cityscapes.py>`\n",
    "\n",
    ".. code-block:: bash\n",
    "\n",
    "   python cityscapes.py\n",
    "\n",
    "\n"
   ]
  },
  {
   "cell_type": "markdown",
   "metadata": {},
   "source": [
    "How to load the dataset\n",
    "-----------------------\n",
    "\n",
    "Loading images and labels from Cityscapes is straight-forward\n",
    "with GluonCV's dataset utility:\n",
    "\n"
   ]
  },
  {
   "cell_type": "code",
   "execution_count": 2,
   "metadata": {},
   "outputs": [
    {
     "ename": "ModuleNotFoundError",
     "evalue": "No module named 'gluoncv'",
     "output_type": "error",
     "traceback": [
      "\u001b[0;31m---------------------------------------------------------------------------\u001b[0m",
      "\u001b[0;31mModuleNotFoundError\u001b[0m                       Traceback (most recent call last)",
      "\u001b[0;32m<ipython-input-2-93c9a9ec17c6>\u001b[0m in \u001b[0;36m<module>\u001b[0;34m()\u001b[0m\n\u001b[0;32m----> 1\u001b[0;31m \u001b[0;32mfrom\u001b[0m \u001b[0mgluoncv\u001b[0m\u001b[0;34m.\u001b[0m\u001b[0mdata\u001b[0m \u001b[0;32mimport\u001b[0m \u001b[0mCitySegmentation\u001b[0m\u001b[0;34m\u001b[0m\u001b[0m\n\u001b[0m\u001b[1;32m      2\u001b[0m \u001b[0mtrain_dataset\u001b[0m \u001b[0;34m=\u001b[0m \u001b[0mCitySegmentation\u001b[0m\u001b[0;34m(\u001b[0m\u001b[0msplit\u001b[0m\u001b[0;34m=\u001b[0m\u001b[0;34m'train'\u001b[0m\u001b[0;34m)\u001b[0m\u001b[0;34m\u001b[0m\u001b[0m\n\u001b[1;32m      3\u001b[0m \u001b[0mval_dataset\u001b[0m \u001b[0;34m=\u001b[0m \u001b[0mCitySegmentation\u001b[0m\u001b[0;34m(\u001b[0m\u001b[0msplit\u001b[0m\u001b[0;34m=\u001b[0m\u001b[0;34m'val'\u001b[0m\u001b[0;34m)\u001b[0m\u001b[0;34m\u001b[0m\u001b[0m\n\u001b[1;32m      4\u001b[0m \u001b[0mprint\u001b[0m\u001b[0;34m(\u001b[0m\u001b[0;34m'Training images:'\u001b[0m\u001b[0;34m,\u001b[0m \u001b[0mlen\u001b[0m\u001b[0;34m(\u001b[0m\u001b[0mtrain_dataset\u001b[0m\u001b[0;34m)\u001b[0m\u001b[0;34m)\u001b[0m\u001b[0;34m\u001b[0m\u001b[0m\n\u001b[1;32m      5\u001b[0m \u001b[0mprint\u001b[0m\u001b[0;34m(\u001b[0m\u001b[0;34m'Validation images:'\u001b[0m\u001b[0;34m,\u001b[0m \u001b[0mlen\u001b[0m\u001b[0;34m(\u001b[0m\u001b[0mval_dataset\u001b[0m\u001b[0;34m)\u001b[0m\u001b[0;34m)\u001b[0m\u001b[0;34m\u001b[0m\u001b[0m\n",
      "\u001b[0;31mModuleNotFoundError\u001b[0m: No module named 'gluoncv'"
     ]
    }
   ],
   "source": [
    "from gluoncv.data import CitySegmentation\n",
    "train_dataset = CitySegmentation(split='train')\n",
    "val_dataset = CitySegmentation(split='val')\n",
    "print('Training images:', len(train_dataset))\n",
    "print('Validation images:', len(val_dataset))"
   ]
  },
  {
   "cell_type": "code",
   "execution_count": 8,
   "metadata": {},
   "outputs": [
    {
     "name": "stdout",
     "output_type": "stream",
     "text": [
      "Requirement already satisfied: gluoncv in /Users/maksim/anaconda/lib/python2.7/site-packages (0.3.0)\n",
      "Requirement already satisfied: scipy in /Users/maksim/anaconda/lib/python2.7/site-packages (from gluoncv) (0.19.0)\n",
      "Requirement already satisfied: requests in /Users/maksim/anaconda/lib/python2.7/site-packages (from gluoncv) (2.14.2)\n",
      "Requirement already satisfied: numpy in /Users/maksim/anaconda/lib/python2.7/site-packages (from gluoncv) (1.12.0)\n",
      "Requirement already satisfied: Pillow in /Users/maksim/anaconda/lib/python2.7/site-packages (from gluoncv) (3.3.1)\n",
      "Requirement already satisfied: matplotlib in /Users/maksim/anaconda/lib/python2.7/site-packages (from gluoncv) (1.5.3)\n",
      "Requirement already satisfied: tqdm in /Users/maksim/anaconda/lib/python2.7/site-packages (from gluoncv) (4.15.0)\n",
      "Requirement already satisfied: python-dateutil in /Users/maksim/anaconda/lib/python2.7/site-packages (from matplotlib->gluoncv) (2.5.3)\n",
      "Requirement already satisfied: pytz in /Users/maksim/anaconda/lib/python2.7/site-packages (from matplotlib->gluoncv) (2016.6.1)\n",
      "Requirement already satisfied: cycler in /Users/maksim/anaconda/lib/python2.7/site-packages (from matplotlib->gluoncv) (0.10.0)\n",
      "Requirement already satisfied: pyparsing!=2.0.4,!=2.1.2,>=1.5.6 in /Users/maksim/anaconda/lib/python2.7/site-packages (from matplotlib->gluoncv) (2.1.4)\n",
      "Requirement already satisfied: six>=1.5 in /Users/maksim/anaconda/lib/python2.7/site-packages (from python-dateutil->matplotlib->gluoncv) (1.11.0)\n",
      "\u001b[33mYou are using pip version 18.0, however version 19.0.1 is available.\n",
      "You should consider upgrading via the 'pip install --upgrade pip' command.\u001b[0m\n"
     ]
    }
   ],
   "source": [
    "!pip install gluoncv"
   ]
  },
  {
   "cell_type": "markdown",
   "metadata": {},
   "source": [
    "Get the first sample\n",
    "--------------------\n",
    "\n",
    "\n"
   ]
  },
  {
   "cell_type": "code",
   "execution_count": null,
   "metadata": {
    "collapsed": true
   },
   "outputs": [],
   "source": [
    "import numpy as np\n",
    "img, mask = val_dataset[0]\n",
    "# get pallete for the mask\n",
    "from gluoncv.utils.viz import get_color_pallete\n",
    "mask = get_color_pallete(mask.asnumpy(), dataset='citys')\n",
    "mask.save('mask.png')"
   ]
  },
  {
   "cell_type": "markdown",
   "metadata": {},
   "source": [
    "Visualize data and label\n",
    "------------------------\n",
    "\n",
    "\n"
   ]
  },
  {
   "cell_type": "code",
   "execution_count": null,
   "metadata": {
    "collapsed": true
   },
   "outputs": [],
   "source": [
    "from matplotlib import pyplot as plt\n",
    "import matplotlib.image as mpimg\n",
    "# subplot 1 for img\n",
    "fig = plt.figure()\n",
    "fig.add_subplot(1,2,1)\n",
    "plt.imshow(img.asnumpy().astype('uint8'))\n",
    "# subplot 2 for the mask\n",
    "mmask = mpimg.imread('mask.png')\n",
    "fig.add_subplot(1,2,2)\n",
    "plt.imshow(mmask)\n",
    "# display\n",
    "plt.show()"
   ]
  }
 ],
 "metadata": {
  "anaconda-cloud": {},
  "kernelspec": {
   "display_name": "Python 3",
   "language": "python",
   "name": "python3"
  },
  "language_info": {
   "codemirror_mode": {
    "name": "ipython",
    "version": 3
   },
   "file_extension": ".py",
   "mimetype": "text/x-python",
   "name": "python",
   "nbconvert_exporter": "python",
   "pygments_lexer": "ipython3",
   "version": "3.6.6"
  }
 },
 "nbformat": 4,
 "nbformat_minor": 1
}
